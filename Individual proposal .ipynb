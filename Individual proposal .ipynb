{
 "cells": [
  {
   "cell_type": "markdown",
   "id": "723c4cfe",
   "metadata": {},
   "source": [
    "Analysis 1: \n",
    "Statement of specific research question: Is household income correlated with age?\n",
    "\n",
    "The variables: People's household income is based on different ages. I chose this as my variable because the household income can be presented as a number.\n",
    "\n",
    "Analysis that we plan to perform: We plan to use the null hypothesis method. By building a null hypothesis that household income does not correlate with age, and trying to reject it. \n",
    "\n",
    "Hypothesis: They are correlated, as age increases the household income should also increase, and at the specific point(age), the household income should decrease while the age is still increasing."
   ]
  },
  {
   "cell_type": "markdown",
   "id": "aa755afe",
   "metadata": {},
   "source": [
    "Analysis 2: \n",
    "Statement of specific research question: Is the time spent on social media per day related to age?\n",
    "\n",
    "The variables: People's time spent on social media per day based on different ages. I chose this as my variable because the time can be presented as a range of numbers. \n",
    "\n",
    "Analysis that we plan to perform: We plan to use the null hypothesis method. By building a null hypothesis that the time spent on social media per day is not correlated with age, and trying to reject it.\n",
    "\n",
    "Hypothesis: As the age increases, the time spent on social media per day should decrease."
   ]
  },
  {
   "cell_type": "markdown",
   "id": "f8b4df2a",
   "metadata": {},
   "source": [
    "Analysis 3: \n",
    "Statement of specific research question: Are the work hours per week correlated with age?\n",
    "\n",
    "Variable: The hours of work per week of the people based on their age. I chose this as my variable because the hours of work per week can be presented as an exact number.\n",
    "\n",
    "Analysis that we plan to perform: We plan to use the null hypothesis method. We will build a null hypothesis that the hours of work per week are not related to age and try to reject it.\n",
    "\n",
    "HypothesisL As the age increases, the hours they spend on work should be relatively similar (up and down), and at a specific point, the work hours per week should sharply decrease and the age should still increase."
   ]
  },
  {
   "cell_type": "markdown",
   "id": "596fddce",
   "metadata": {},
   "source": [
    "I want to work with Jia rui Qian, Xiao bin Qian."
   ]
  }
 ],
 "metadata": {
  "kernelspec": {
   "display_name": "Python 3 (ipykernel)",
   "language": "python",
   "name": "python3"
  },
  "language_info": {
   "codemirror_mode": {
    "name": "ipython",
    "version": 3
   },
   "file_extension": ".py",
   "mimetype": "text/x-python",
   "name": "python",
   "nbconvert_exporter": "python",
   "pygments_lexer": "ipython3",
   "version": "3.11.6"
  }
 },
 "nbformat": 4,
 "nbformat_minor": 5
}
